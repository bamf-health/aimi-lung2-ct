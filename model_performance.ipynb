{
 "cells": [
  {
   "cell_type": "markdown",
   "metadata": {},
   "source": [
    "# Model Performance\n",
    "\n",
    "\n",
    "## Prerequisites\n",
    "Install python packages"
   ]
  },
  {
   "cell_type": "code",
   "execution_count": 1,
   "metadata": {},
   "outputs": [],
   "source": [
    "%%capture\n",
    "%pip install pandas pydicom pydicom-seg scikit-learn seaborn requests\n",
    "%pip install segmentationmetrics"
   ]
  },
  {
   "cell_type": "code",
   "execution_count": 2,
   "metadata": {},
   "outputs": [],
   "source": [
    "import warnings\n",
    "\n",
    "warnings.filterwarnings(\"ignore\")\n",
    "\n",
    "import io\n",
    "import zipfile\n",
    "from pathlib import Path\n",
    "\n",
    "import matplotlib.pyplot as plt\n",
    "import numpy as np\n",
    "import pandas as pd\n",
    "import pydicom\n",
    "import pydicom_seg\n",
    "import requests\n",
    "import scipy.stats as stats\n",
    "import seaborn as sns\n",
    "import segmentationmetrics as sm\n",
    "import SimpleITK as sitk\n",
    "from segmentationmetrics.surface_distance import compute_surface_dice_at_tolerance\n",
    "from tqdm.auto import tqdm\n",
    "\n",
    "sns.set_theme(style=\"whitegrid\")\n",
    "%matplotlib inline"
   ]
  },
  {
   "cell_type": "code",
   "execution_count": 3,
   "metadata": {},
   "outputs": [],
   "source": [
    "plt_colors = {\n",
    "    \"ne2\": \"#5eceb0\",\n",
    "    \"rad1\": \"#9e70e1\",\n",
    "    \"tp\": \"k\",\n",
    "    \"fp\": \"b\",\n",
    "    \"fn\": \"r\",\n",
    "}\n",
    "\n",
    "revewer_cmap = sns.color_palette([plt_colors[\"ne2\"], plt_colors[\"rad1\"]])\n",
    "vol_cmap = sns.color_palette([plt_colors[\"fp\"], plt_colors[\"fn\"]])"
   ]
  },
  {
   "cell_type": "markdown",
   "metadata": {},
   "source": [
    "## Download the segmentation results from zenodo"
   ]
  },
  {
   "cell_type": "code",
   "execution_count": 4,
   "metadata": {},
   "outputs": [],
   "source": [
    "qa_dir = Path(\"qa-results\")"
   ]
  },
  {
   "cell_type": "code",
   "execution_count": 5,
   "metadata": {},
   "outputs": [],
   "source": [
    "def download_inference(\n",
    "    extract_dir=\"qa-results\", record=\"13244892\", filename=\"lung2-ct.zip\"\n",
    "):\n",
    "    url = f\"https://zenodo.org/record/{record}/files/{filename}\"\n",
    "    # download the zip file and extract it\n",
    "    r = requests.get(url)\n",
    "    z = zipfile.ZipFile(io.BytesIO(r.content))\n",
    "    z.extractall(extract_dir)\n",
    "\n",
    "\n",
    "if not qa_dir.exists() or not (qa_dir / \"ai-segmentations-dcm\").exists():\n",
    "    download_inference(qa_dir)"
   ]
  },
  {
   "cell_type": "code",
   "execution_count": 6,
   "metadata": {},
   "outputs": [],
   "source": [
    "def load_dcm_seg(seg_path: Path, label=1):\n",
    "    dcm = pydicom.dcmread(str(seg_path))\n",
    "    reader = pydicom_seg.SegmentReader()\n",
    "    result = reader.read(dcm)\n",
    "    if label in result.available_segments:\n",
    "        image = result.segment_image(label)\n",
    "    else:\n",
    "        # create an empty image\n",
    "        tmp_img = result.segment_image(list(result.available_segments)[0])\n",
    "        tmp_arr = sitk.GetArrayFromImage(tmp_img)\n",
    "        image = sitk.GetImageFromArray(np.zeros_like(tmp_arr))\n",
    "        image.CopyInformation(tmp_img)\n",
    "    image = sitk.Cast(image, sitk.sitkUInt8)\n",
    "    return image\n",
    "\n",
    "\n",
    "def load_nii_seg(seg_path: Path, label=1):\n",
    "    img = sitk.ReadImage(str(seg_path))\n",
    "    if label == 1:\n",
    "        img = sitk.Cast(img >= label, sitk.sitkUInt8)\n",
    "    else:\n",
    "        img = sitk.Cast(img == label, sitk.sitkUInt8)\n",
    "    return img\n",
    "\n",
    "\n",
    "def load_seg(seg_path: Path, label=1):\n",
    "    if seg_path.suffix == \".dcm\":\n",
    "        return load_dcm_seg(seg_path, label)\n",
    "    else:\n",
    "        return load_nii_seg(seg_path, label)\n",
    "\n",
    "\n",
    "def resize_label(img: sitk.Image, ref_img: sitk.Image, interp=sitk.sitkNearestNeighbor):\n",
    "    resampler = sitk.ResampleImageFilter()\n",
    "    resampler.SetReferenceImage(ref_img)\n",
    "    resampler.SetInterpolator(interp)\n",
    "    resampler.SetDefaultPixelValue(0)\n",
    "    resampled_img = resampler.Execute(img)\n",
    "    return resampled_img\n",
    "\n",
    "\n",
    "def calc_metrics_for_label(\n",
    "    ai_seg_file, qa_seg_file, fname, label_value=1, version=\"aimiv2\", label_suffix=\"\"\n",
    "):\n",
    "    ai_img = load_seg(ai_seg_file, label_value)\n",
    "    qa_img = load_seg(qa_seg_file, label_value)\n",
    "    qa_img = resize_label(qa_img, ai_img)  # match the size of the ai_img\n",
    "    ai_arr = sitk.GetArrayFromImage(ai_img)\n",
    "    qa_arr = sitk.GetArrayFromImage(qa_img)\n",
    "    spacing = ai_img.GetSpacing()[::-1]  # numpy is reversed dimensions from sitk\n",
    "\n",
    "    qa_img = resize_label(qa_img, ai_img)  # match the size of the ai_img\n",
    "    m = sm.SegmentationMetrics(ai_arr, qa_arr, spacing)\n",
    "\n",
    "    metrics = {\n",
    "        \"dice\": m.dice,\n",
    "        \"hausdorff_distance_95\": m.hausdorff_distance,\n",
    "        \"mean_surface_distance\": m.mean_surface_distance,\n",
    "        \"mean_surface_distance_tol_7\": compute_surface_dice_at_tolerance(\n",
    "            m._surface_dist, 7\n",
    "        ),\n",
    "        \"SeriesInstanceUID\": fname,  # from medical segmentation decathlon\n",
    "        \"label\": label_value,\n",
    "        \"version\": version,\n",
    "    }\n",
    "    if label_suffix:\n",
    "        metrics = {f\"{k}_{label_suffix}\": v for k, v in metrics.items()}\n",
    "    return metrics"
   ]
  },
  {
   "cell_type": "markdown",
   "metadata": {},
   "source": [
    "### Calculating metrics"
   ]
  },
  {
   "cell_type": "code",
   "execution_count": 8,
   "metadata": {},
   "outputs": [
    {
     "data": {
      "application/vnd.jupyter.widget-view+json": {
       "model_id": "80eac4de8e004d1ba7594c45e982bc43",
       "version_major": 2,
       "version_minor": 0
      },
      "text/plain": [
       "  0%|          | 0/115 [00:00<?, ?it/s]"
      ]
     },
     "metadata": {},
     "output_type": "display_data"
    }
   ],
   "source": [
    "# Load the CSV file\n",
    "df = pd.read_csv(Path(\"qa-results/qa-results.csv\"))\n",
    "qa_df = df[df.Validation]\n",
    "\n",
    "# Paths for aimiv1, aimiv2, and qa\n",
    "ai_path = Path(\"qa-results/ai-segmentations-dcm\")\n",
    "qa_path = Path(\"qa-results/qa-segmentations-dcm\")\n",
    "\n",
    "# Initialize lists for metrics\n",
    "metrics = []\n",
    "\n",
    "# Iterate over all QA cases\n",
    "for _, row in tqdm(qa_df.iterrows(), total=len(qa_df)):\n",
    "    ai_file = ai_path / row.AISegmentation\n",
    "    if not pd.isna(row.CorrectedSegmentation):\n",
    "        qa_file = qa_path / row.CorrectedSegmentation\n",
    "    else:\n",
    "        # reviewer had no corrections, use AI segmentation as QA\n",
    "        qa_file = ai_file\n",
    "\n",
    "    assert ai_file.exists(), f\"AI segmentation not found for {row.AISegmentation}\"\n",
    "    assert qa_file.exists(), f\"QA segmentation not found for {row.QASegmentation}\"\n",
    "\n",
    "    version = \"aimiv1\" if row.AimiProjectYear == 2023 else \"aimiv2\"\n",
    "    for label_value in [1, 2]:\n",
    "        metrics.append(\n",
    "            calc_metrics_for_label(\n",
    "                ai_file,\n",
    "                qa_file,\n",
    "                row.SeriesInstanceUID,\n",
    "                version=version,\n",
    "                label_value=label_value,\n",
    "            )\n",
    "        )\n",
    "\n",
    "metrics_df = pd.DataFrame(metrics)\n",
    "\n",
    "# Replace infinite values with NaN and drop NaN values\n",
    "metrics_df = metrics_df.replace([np.inf, -np.inf], np.nan).dropna()"
   ]
  },
  {
   "cell_type": "code",
   "execution_count": 9,
   "metadata": {},
   "outputs": [],
   "source": [
    "# add label names\n",
    "ds = pydicom.dcmread(ai_path / df.AISegmentation.iloc[0])\n",
    "result = pydicom_seg.SegmentReader().read(ds)\n",
    "label_names = {\n",
    "    k: v[\"SegmentDescription\"].value for k, v in result.segment_infos.items()\n",
    "}\n",
    "assert len(label_names) == 2, \"Only 2 labels are expected\"\n",
    "\n",
    "# update metrics_df with label names column\n",
    "metrics_df[\"label_name\"] = metrics_df[\"label\"].map(label_names)"
   ]
  },
  {
   "cell_type": "code",
   "execution_count": 10,
   "metadata": {},
   "outputs": [
    {
     "data": {
      "text/html": [
       "<div>\n",
       "<style scoped>\n",
       "    .dataframe tbody tr th:only-of-type {\n",
       "        vertical-align: middle;\n",
       "    }\n",
       "\n",
       "    .dataframe tbody tr th {\n",
       "        vertical-align: top;\n",
       "    }\n",
       "\n",
       "    .dataframe thead tr th {\n",
       "        text-align: left;\n",
       "    }\n",
       "\n",
       "    .dataframe thead tr:last-of-type th {\n",
       "        text-align: right;\n",
       "    }\n",
       "</style>\n",
       "<table border=\"1\" class=\"dataframe\">\n",
       "  <thead>\n",
       "    <tr>\n",
       "      <th></th>\n",
       "      <th></th>\n",
       "      <th colspan=\"2\" halign=\"left\">dice</th>\n",
       "      <th colspan=\"2\" halign=\"left\">hausdorff_distance_95</th>\n",
       "      <th colspan=\"2\" halign=\"left\">mean_surface_distance</th>\n",
       "      <th colspan=\"2\" halign=\"left\">mean_surface_distance_tol_7</th>\n",
       "    </tr>\n",
       "    <tr>\n",
       "      <th></th>\n",
       "      <th></th>\n",
       "      <th>mean</th>\n",
       "      <th>std</th>\n",
       "      <th>mean</th>\n",
       "      <th>std</th>\n",
       "      <th>mean</th>\n",
       "      <th>std</th>\n",
       "      <th>mean</th>\n",
       "      <th>std</th>\n",
       "    </tr>\n",
       "    <tr>\n",
       "      <th>label_name</th>\n",
       "      <th>version</th>\n",
       "      <th></th>\n",
       "      <th></th>\n",
       "      <th></th>\n",
       "      <th></th>\n",
       "      <th></th>\n",
       "      <th></th>\n",
       "      <th></th>\n",
       "      <th></th>\n",
       "    </tr>\n",
       "  </thead>\n",
       "  <tbody>\n",
       "    <tr>\n",
       "      <th>Lung</th>\n",
       "      <th>aimiv2</th>\n",
       "      <td>1.00</td>\n",
       "      <td>0.00</td>\n",
       "      <td>0.07</td>\n",
       "      <td>0.67</td>\n",
       "      <td>0.02</td>\n",
       "      <td>0.08</td>\n",
       "      <td>1.00</td>\n",
       "      <td>0.00</td>\n",
       "    </tr>\n",
       "    <tr>\n",
       "      <th>Nodule</th>\n",
       "      <th>aimiv2</th>\n",
       "      <td>0.76</td>\n",
       "      <td>0.28</td>\n",
       "      <td>65.62</td>\n",
       "      <td>65.23</td>\n",
       "      <td>11.22</td>\n",
       "      <td>15.53</td>\n",
       "      <td>0.82</td>\n",
       "      <td>0.22</td>\n",
       "    </tr>\n",
       "  </tbody>\n",
       "</table>\n",
       "</div>"
      ],
      "text/plain": [
       "                    dice       hausdorff_distance_95         \\\n",
       "                    mean   std                  mean    std   \n",
       "label_name version                                            \n",
       "Lung       aimiv2   1.00  0.00                  0.07   0.67   \n",
       "Nodule     aimiv2   0.76  0.28                 65.62  65.23   \n",
       "\n",
       "                   mean_surface_distance        mean_surface_distance_tol_7  \\\n",
       "                                    mean    std                        mean   \n",
       "label_name version                                                            \n",
       "Lung       aimiv2                   0.02   0.08                        1.00   \n",
       "Nodule     aimiv2                  11.22  15.53                        0.82   \n",
       "\n",
       "                          \n",
       "                     std  \n",
       "label_name version        \n",
       "Lung       aimiv2   0.00  \n",
       "Nodule     aimiv2   0.22  "
      ]
     },
     "execution_count": 10,
     "metadata": {},
     "output_type": "execute_result"
    }
   ],
   "source": [
    "# Group by 'label' and 'version' and aggregate metrics\n",
    "aggregated_df = (\n",
    "    metrics_df.groupby([\"label_name\", \"version\"])\n",
    "    .agg(\n",
    "        {\n",
    "            \"dice\": [\"mean\", \"std\"],\n",
    "            \"hausdorff_distance_95\": [\"mean\", \"std\"],\n",
    "            \"mean_surface_distance\": [\"mean\", \"std\"],\n",
    "            \"mean_surface_distance_tol_7\": [\"mean\", \"std\"],\n",
    "        }\n",
    "    )\n",
    "    .round(2)\n",
    ")\n",
    "\n",
    "aggregated_df"
   ]
  },
  {
   "cell_type": "markdown",
   "metadata": {},
   "source": [
    "### Plotting the model performance"
   ]
  },
  {
   "cell_type": "code",
   "execution_count": 8,
   "metadata": {},
   "outputs": [
    {
     "data": {
      "image/png": "[encoded data removed]",
      "text/plain": [
       "<Figure size 1200x1000 with 4 Axes>"
      ]
     },
     "metadata": {},
     "output_type": "display_data"
    }
   ],
   "source": [
    "# create seaborn categorical boxplot for each metric, by label and version\n",
    "for metric in [\n",
    "    \"dice\",\n",
    "    \"hausdorff_distance_95\",\n",
    "    \"mean_surface_distance\",\n",
    "    \"mean_surface_distance_tol_7\",\n",
    "]:\n",
    "    fig, ax = plt.subplots(figsize=(12, 6))\n",
    "    sns.boxplot(\n",
    "        x=\"label_name\",\n",
    "        y=metric,\n",
    "        data=metrics_df,\n",
    "        palette=revewer_cmap,\n",
    "        ax=ax,\n",
    "    )\n",
    "    ax.set_title(f\"{metric} by label\")\n",
    "    ax.set_ylabel(metric)\n",
    "    ax.set_xlabel(\"Label\")\n",
    "    plt.xticks(rotation=45)\n",
    "    plt.show()"
   ]
  },
  {
   "cell_type": "code",
   "execution_count": null,
   "metadata": {},
   "outputs": [],
   "source": []
  }
 ],
 "metadata": {
  "kernelspec": {
   "display_name": "Python 3 (ipykernel)",
   "language": "python",
   "name": "python3"
  },
  "language_info": {
   "codemirror_mode": {
    "name": "ipython",
    "version": 3
   },
   "file_extension": ".py",
   "mimetype": "text/x-python",
   "name": "python",
   "nbconvert_exporter": "python",
   "pygments_lexer": "ipython3",
   "version": "3.12.4"
  }
 },
 "nbformat": 4,
 "nbformat_minor": 4
}
