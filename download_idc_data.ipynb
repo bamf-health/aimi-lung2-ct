{
    "cells": [
        {
            "cell_type": "code",
            "execution_count": 1,
            "metadata": {},
            "outputs": [],
            "source": [
                "from tempfile import TemporaryDirectory\n",
                "from pathlib import Path\n",
                "import shutil\n",
                "import subprocess\n",
                "from tqdm.auto import tqdm\n",
                "from textwrap import dedent\n",
                "import pandas as pd\n",
                "import re\n",
                "\n",
                "%load_ext google.cloud.bigquery"
            ]
        },
        {
            "cell_type": "code",
            "execution_count": 2,
            "metadata": {},
            "outputs": [],
            "source": [
                "task_dir = Path()\n",
                "dcm_dir = task_dir / \"data\" / \"dcm\"\n",
                "nii_dir = task_dir / \"data\" / \"nii\"\n",
                "dcm_dir.mkdir(exist_ok=True, parents=True)\n",
                "nii_dir.mkdir(exist_ok=True, parents=True)"
            ]
        },
        {
            "cell_type": "markdown",
            "metadata": {},
            "source": [
                "## get the data from the IDC collections\n",
                "\n",
                "the lung-ct task uses images from these IDC collections\n",
                "import subprocess\n",
                "* QIN-LUNG-CT\n",
                "* SPIE-AAPM Lung CT Challenge\n",
                "* National Lung Screening Trial (NLST)\n",
                "\n",
                "But only a portion of the NLST collection is used, lets get the easy ones first.\n",
                "\n",
                "### Get QIN-LUNG-CT and SPIE-AAPM collections"
            ]
        },
        {
            "cell_type": "code",
            "execution_count": 4,
            "metadata": {},
            "outputs": [
                {
                    "data": {
                        "application/vnd.jupyter.widget-view+json": {
                            "model_id": "12cd1e51f57c4b31b8e5754d7880165f",
                            "version_major": 2,
                            "version_minor": 0
                        },
                        "text/plain": [
                            "Query is running:   0%|          |"
                        ]
                    },
                    "metadata": {},
                    "output_type": "display_data"
                },
                {
                    "data": {
                        "application/vnd.jupyter.widget-view+json": {
                            "model_id": "c3656099e3354fdc99a89b888581f592",
                            "version_major": 2,
                            "version_minor": 0
                        },
                        "text/plain": [
                            "Downloading:   0%|          |"
                        ]
                    },
                    "metadata": {},
                    "output_type": "display_data"
                }
            ],
            "source": [
                "%%bigquery qin_lung_spie_df\n",
                "# create list of series to download from upenn_gbm collection that contain the string \"t2\" in the series description\n",
                "SELECT\n",
                "      collection_id,\n",
                "      PatientID,\n",
                "      StudyInstanceUID,\n",
                "      SeriesInstanceUID,\n",
                "      StudyDate,\n",
                "      Modality,\n",
                "      StudyDescription,\n",
                "      SeriesDescription,\n",
                "  # Organize the files in-place on the fly\n",
                "  ANY_VALUE(CONCAT(\"cp s3\",\n",
                "      REGEXP_SUBSTR(gcs_url, \"(://.*)/\"),\n",
                "      \"/* \",collection_id,\"/\",PatientID,\"/\",\n",
                "      StudyInstanceUID,\"/\",SeriesInstanceUID)) AS s5cmd_command,\n",
                "      COUNT(sopInstanceUID) AS instance_count,\n",
                "FROM\n",
                "  `bigquery-public-data.idc_current.dicom_all`\n",
                "WHERE\n",
                "  collection_id IN ('qin_lung_ct', 'spie_aapm_lung_ct_challenge') and Modality in (\"CT\", \"SEG\")\n",
                "GROUP BY\n",
                "  SeriesInstanceUID,collection_id,PatientID,StudyInstanceUID,SeriesInstanceUID,StudyDate,Modality,StudyDescription,SeriesDescription"
            ]
        },
        {
            "cell_type": "markdown",
            "metadata": {},
            "source": [
                "### Get NLST collection\n",
                "The NLST collection is huge. we need to limited it to ~1000 scans. Fortunately a paper by [Krishnaswamy, D. et al. (2023)](https://arxiv.org/abs/2306.00150) has already done this for us. We will use a modified version of their [query](https://github.com/ImagingDataCommons/nnU-Net-BPR-annotations/blob/main/common/queries/NLST_query.txt)."
            ]
        },
        {
            "cell_type": "code",
            "execution_count": 5,
            "metadata": {},
            "outputs": [
                {
                    "data": {
                        "application/vnd.jupyter.widget-view+json": {
                            "model_id": "b99b4ba033ec4b07a106638c436de28c",
                            "version_major": 2,
                            "version_minor": 0
                        },
                        "text/plain": [
                            "Query is running:   0%|          |"
                        ]
                    },
                    "metadata": {},
                    "output_type": "display_data"
                },
                {
                    "data": {
                        "application/vnd.jupyter.widget-view+json": {
                            "model_id": "7c1c20d6e6604289812d74f029f6e3ea",
                            "version_major": 2,
                            "version_minor": 0
                        },
                        "text/plain": [
                            "Downloading:   0%|          |"
                        ]
                    },
                    "metadata": {},
                    "output_type": "display_data"
                }
            ],
            "source": [
                "%%bigquery nlst_table\n",
                "WITH\n",
                "  # get the positive patients from the NLST dataset\n",
                "  nlst_positive AS (\n",
                "  SELECT\n",
                "    SAFE_CAST(pid AS STRING) AS pid,\n",
                "    PatientID,\n",
                "    StudyInstanceUID,\n",
                "    SeriesInstanceUID\n",
                "  FROM\n",
                "    `bigquery-public-data.idc_current_clinical.nlst_prsn` AS nlst\n",
                "  JOIN\n",
                "    `bigquery-public-data.idc_current.dicom_all` AS dicom_all\n",
                "  ON\n",
                "    SAFE_CAST(nlst.pid AS STRING) = dicom_all.PatientID\n",
                "  WHERE\n",
                "    can_scr = 1\n",
                "  ),\n",
                "\n",
                "\n",
                "  # get various values for each series: number of instances, number of pizel spacing, min and max slice thickness, min and max z axis slice locations, ...\n",
                "  nlst_instances_per_series AS (\n",
                "  SELECT\n",
                "    ANY_VALUE(nlst_positive.PatientID) AS PatientID,\n",
                "    nlst_positive.StudyInstanceUID,\n",
                "    nlst_positive.SeriesInstanceUID,\n",
                "    COUNT(DISTINCT(SOPInstanceUID)) AS num_instances,\n",
                "    COUNT(DISTINCT(ARRAY_TO_STRING(ImagePositionPatient,\"/\"))) AS position_count,\n",
                "    COUNT(DISTINCT(ARRAY_TO_STRING(PixelSpacing,\"/\"))) AS pixel_spacing_count,\n",
                "    COUNT(DISTINCT(ARRAY_TO_STRING(ImageOrientationPatient,\"/\"))) AS orientation_count,\n",
                "    MIN(SAFE_CAST(SliceThickness AS float64)) AS min_SliceThickness,\n",
                "    MAX(SAFE_CAST(SliceThickness AS float64)) AS max_SliceThickness,\n",
                "    MIN(SAFE_CAST(ImagePositionPatient[SAFE_OFFSET(2)] AS float64)) AS min_SliceLocation,\n",
                "    MAX(SAFE_CAST(ImagePositionPatient[SAFE_OFFSET(2)] AS float64)) AS max_SliceLocation,\n",
                "    STRING_AGG(DISTINCT(SAFE_CAST(\"LOCALIZER\" IN UNNEST(ImageType) AS string)),\"\") AS has_localizer,\n",
                "    ANY_VALUE(dicom_all.ImageOrientationPatient) AS ImageOrientationPatient,\n",
                "    ANY_VALUE(dicom_all.Modality) AS Modality\n",
                "  FROM\n",
                "    `bigquery-public-data.idc_current.dicom_all` as dicom_all\n",
                "  JOIN\n",
                "    nlst_positive\n",
                "  ON\n",
                "    nlst_positive.SeriesInstanceUID = dicom_all.SeriesInstanceUID\n",
                "  WHERE\n",
                "    collection_id = \"nlst\"\n",
                "    AND Modality = \"CT\"\n",
                "  GROUP BY\n",
                "    StudyInstanceUID,\n",
                "    SeriesInstanceUID ),\n",
                "\n",
                "\n",
                "  # get the different in slice location between each slice in a series. Ideally there should be a single consistant position difference between each slice\n",
                "  distinct_slice_location_difference_values AS (\n",
                "  SELECT\n",
                "      DISTINCT(TRUNC(SAFE_CAST(ImagePositionPatient[SAFE_OFFSET(2)] AS NUMERIC),1) - LAG(TRUNC(SAFE_CAST(ImagePositionPatient[SAFE_OFFSET(2)] AS NUMERIC),1),1) OVER(partition by SeriesInstanceUID ORDER BY TRUNC(SAFE_CAST(ImagePositionPatient[SAFE_OFFSET(2)] AS NUMERIC),1) DESC)) AS SliceLocation_difference,\n",
                "      SeriesInstanceUID,\n",
                "      StudyInstanceUID\n",
                "  FROM\n",
                "      `bigquery-public-data.idc_current.dicom_all`\n",
                "  WHERE\n",
                "    collection_id = \"nlst\"\n",
                "    AND Modality = \"CT\"\n",
                "  ),\n",
                "\n",
                "\n",
                "  # Get counts and max and min values for the slice location differences\n",
                "  # filter out series with slice thickness outside of the range 1.5 to 3.5 mm\n",
                "  # filter out series with less than 100 instances\n",
                "  # only keep series with 1:1 ratio of instances to position count\n",
                "  # only keep series with a single, consistent pixel spacing\n",
                "  # only keep series with a single, consistent orientation\n",
                "  # limited the imageorentation to [1 0 0 0 1 0], which is typlically FFS patient orientation\n",
                "  nlst_values_per_series AS (\n",
                "  SELECT\n",
                "    COUNT(distinct_slice_location_difference_values.SliceLocation_difference) as num_differences,\n",
                "    MAX(ABS(distinct_slice_location_difference_values.SliceLocation_difference)) as max_difference,\n",
                "    MIN(ABS(distinct_slice_location_difference_values.SliceLocation_difference)) as min_difference,\n",
                "    ANY_VALUE(nlst_instances_per_series.PatientID) AS PatientID,\n",
                "    ANY_VALUE(nlst_instances_per_series.StudyInstanceUID) AS StudyInstanceUID,\n",
                "    distinct_slice_location_difference_values.SeriesInstanceUID AS SeriesInstanceUID,\n",
                "    ANY_VALUE(nlst_instances_per_series.Modality) AS Modality,\n",
                "    ANY_VALUE(nlst_instances_per_series.num_instances) AS num_instances,\n",
                "    ANY_VALUE(nlst_instances_per_series.ImageOrientationPatient) AS ImageOrientationPatient\n",
                "  FROM\n",
                "    distinct_slice_location_difference_values\n",
                "  JOIN\n",
                "    nlst_instances_per_series\n",
                "  ON\n",
                "    nlst_instances_per_series.SeriesInstanceUID = distinct_slice_location_difference_values.SeriesInstanceUID\n",
                "  WHERE\n",
                "    nlst_instances_per_series.min_SliceThickness >= 1.5\n",
                "    AND nlst_instances_per_series.max_SliceThickness <= 3.5\n",
                "    AND nlst_instances_per_series.num_instances > 100\n",
                "    AND nlst_instances_per_series.num_instances/nlst_instances_per_series.position_count = 1\n",
                "    AND nlst_instances_per_series.pixel_spacing_count = 1\n",
                "    AND nlst_instances_per_series.orientation_count = 1\n",
                "    AND has_localizer = \"false\"\n",
                "    AND ABS(SAFE_CAST(nlst_instances_per_series.ImageOrientationPatient[SAFE_OFFSET(0)] AS float64)) > ABS(SAFE_CAST(nlst_instances_per_series.ImageOrientationPatient[SAFE_OFFSET(1)] AS float64))\n",
                "    AND ABS(SAFE_CAST(nlst_instances_per_series.ImageOrientationPatient[SAFE_OFFSET(0)] AS float64)) > ABS(SAFE_CAST(nlst_instances_per_series.ImageOrientationPatient[SAFE_OFFSET(2)] AS float64))\n",
                "    AND ABS(SAFE_CAST(nlst_instances_per_series.ImageOrientationPatient[SAFE_OFFSET(4)] AS float64)) > ABS(SAFE_CAST(nlst_instances_per_series.ImageOrientationPatient[SAFE_OFFSET(3)] AS float64))\n",
                "    AND ABS(SAFE_CAST(nlst_instances_per_series.ImageOrientationPatient[SAFE_OFFSET(4)] AS float64)) > ABS(SAFE_CAST(nlst_instances_per_series.ImageOrientationPatient[SAFE_OFFSET(5)] AS float64))\n",
                "\n",
                "  GROUP BY\n",
                "    distinct_slice_location_difference_values.SeriesInstanceUID ),\n",
                "\n",
                "\n",
                "\n",
                "  # select a series from each study\n",
                "  select_single_series_from_study AS (\n",
                "  SELECT\n",
                "    ANY_VALUE(PatientID) AS PatientID,\n",
                "    StudyInstanceUID,\n",
                "    ANY_VALUE(SeriesInstanceUID) AS SeriesInstanceUID,\n",
                "    ANY_VALUE(Modality) AS Modality,\n",
                "    ANY_VALUE(nlst_values_per_series.num_differences) AS num_differences,\n",
                "    ANY_VALUE(nlst_values_per_series.max_difference) AS max_difference,\n",
                "    ANY_VALUE(nlst_values_per_series.min_difference) AS min_difference,\n",
                "    ANY_VALUE(nlst_values_per_series.num_instances) AS num_instances\n",
                "  FROM\n",
                "    nlst_values_per_series\n",
                "  GROUP BY\n",
                "    StudyInstanceUID )\n",
                "\n",
                "\n",
                "  # create table with download urls for each instance\n",
                "  SELECT\n",
                "    DISTINCT(select_single_series_from_study.SeriesInstanceUID) as SeriesInstanceUID,\n",
                "    dicom_all.collection_id,\n",
                "    select_single_series_from_study.PatientID,\n",
                "    select_single_series_from_study.StudyInstanceUID,\n",
                "    dicom_all.StudyDate,\n",
                "    select_single_series_from_study.Modality,\n",
                "    dicom_all.StudyDescription,\n",
                "    dicom_all.SeriesDescription,\n",
                "    # select_single_series_from_study.num_instances,\n",
                "    # select_single_series_from_study.num_differences,\n",
                "    # select_single_series_from_study.max_difference,\n",
                "    # select_single_series_from_study.min_difference,\n",
                "    # CONCAT(\"https://viewer.imaging.datacommons.cancer.gov/viewer/\",select_single_series_from_study.StudyInstanceUID,\"?seriesInstanceUID=\",select_single_series_from_study.SeriesInstanceUID) AS idc_url,\n",
                "    # Organize the files in-place on the fly\n",
                "    ANY_VALUE(CONCAT(\"cp s3\",\n",
                "      REGEXP_SUBSTR(gcs_url, \"(://.*)/\"),\n",
                "      \"/* \",\n",
                "      dicom_all.collection_id,\"/\",\n",
                "      select_single_series_from_study.PatientID,\"/\",\n",
                "      select_single_series_from_study.StudyInstanceUID,\"/\",\n",
                "      select_single_series_from_study.SeriesInstanceUID)) AS s5cmd_command,\n",
                "    COUNT(sopInstanceUID) AS instance_count,\n",
                "  FROM\n",
                "   `bigquery-public-data.idc_current.dicom_all` AS dicom_all\n",
                "  JOIN\n",
                "    select_single_series_from_study\n",
                "  ON\n",
                "    dicom_all.SeriesInstanceUID = select_single_series_from_study.SeriesInstanceUID\n",
                "  WHERE\n",
                "    select_single_series_from_study.num_differences <= 2\n",
                "    AND select_single_series_from_study.max_difference/select_single_series_from_study.min_difference < 2\n",
                "  GROUP BY\n",
                "    SeriesInstanceUID,collection_id,PatientID,StudyInstanceUID,SeriesInstanceUID,StudyDate,Modality,StudyDescription,SeriesDescription\n"
            ]
        },
        {
            "cell_type": "markdown",
            "metadata": {},
            "source": [
                "Combine the NLST query with the QIN-LUNG-CT and SPIE-AAPM queries."
            ]
        },
        {
            "cell_type": "code",
            "execution_count": 6,
            "metadata": {},
            "outputs": [],
            "source": [
                "selection_df = pd.concat([qin_lung_spie_df, nlst_table], ignore_index=True)"
            ]
        },
        {
            "cell_type": "code",
            "execution_count": 7,
            "metadata": {},
            "outputs": [],
            "source": [
                "# save selection dataframe to pickle, useful for further data curation\n",
                "selection_df.sort_values(\n",
                "    by=[\n",
                "        \"collection_id\",\n",
                "        \"PatientID\",\n",
                "        \"StudyDate\",\n",
                "        \"StudyInstanceUID\",\n",
                "        \"SeriesInstanceUID\",\n",
                "    ],\n",
                "    inplace=True,\n",
                ")\n",
                "pkl_file = task_dir / \"data\" / \"scan_data.pkl\"\n",
                "selection_df.to_pickle(pkl_file)\n",
                "selection_df.to_csv(pkl_file.with_suffix(\".csv\"), index=False)"
            ]
        },
        {
            "cell_type": "markdown",
            "metadata": {},
            "source": [
                "Download the manifest with s5cmd"
            ]
        },
        {
            "cell_type": "code",
            "execution_count": 8,
            "metadata": {},
            "outputs": [],
            "source": [
                "# check the download directory and limit to just the files that are missing\n",
                "for i, row in selection_df.iterrows():\n",
                "    dcm_series_dir = dcm_dir / row[\"s5cmd_command\"].split()[-1]\n",
                "    dcm_cnt = len(list(dcm_series_dir.glob(\"*.dcm\")))\n",
                "    selection_df.loc[i, \"downloaded_cnt\"] = dcm_cnt"
            ]
        },
        {
            "cell_type": "markdown",
            "metadata": {},
            "source": [
                "### Make sure to run this command before next steps"
            ]
        },
        {
            "cell_type": "code",
            "execution_count": 9,
            "metadata": {},
            "outputs": [
                {
                    "name": "stdout",
                    "output_type": "stream",
                    "text": [
                        "Run the following commands to download the dcm data\n",
                        "                cd data/dcm\n",
                        "                s5cmd --no-sign-request --endpoint-url https://storage.googleapis.com run /home/gmurugesan/projects/experimental_projects/AIMI/aimiv2/deliverable/github_repo/aimi-lung2-ct/s5cmd_gcs_missing_manifest.s5cmd\n",
                        "                cd -\n"
                    ]
                }
            ],
            "source": [
                "# save to file\n",
                "missing_df = selection_df[\n",
                "    selection_df[\"instance_count\"] != selection_df[\"downloaded_cnt\"]\n",
                "]\n",
                "if len(missing_df) == 0:\n",
                "    print(\"all files already downloaded\")\n",
                "else:\n",
                "    missing_df[\"s5cmd_command\"].to_csv(\n",
                "        \"s5cmd_gcs_missing_manifest.s5cmd\", header=False, index=False\n",
                "    )\n",
                "    print(\n",
                "        dedent(\n",
                "            f\"\"\"Run the following commands to download the dcm data\n",
                "                cd data/dcm\n",
                "                s5cmd --no-sign-request --endpoint-url https://storage.googleapis.com run {Path(\"s5cmd_gcs_missing_manifest.s5cmd\").resolve()}\n",
                "                cd -\"\"\"\n",
                "        )\n",
                "    )\n",
                "\n",
                "selection_df[\"s5cmd_command\"].to_csv(\n",
                "    \"s5cmd_gcs_manifest.s5cmd\", header=False, index=False\n",
                ")"
            ]
        },
        {
            "cell_type": "markdown",
            "metadata": {},
            "source": [
                "Convert the files to nifti"
            ]
        },
        {
            "cell_type": "code",
            "execution_count": 10,
            "metadata": {},
            "outputs": [],
            "source": [
                "def dcm_to_niix(dcm_dir: Path, nii_path: Path):\n",
                "    \"\"\"uses dcm2niix to convert a series of dicom files to a nifti file\"\"\"\n",
                "    with TemporaryDirectory() as tmpdir:\n",
                "        args = [\n",
                "            \"dcm2niix\",\n",
                "            \"-o\",\n",
                "            tmpdir,\n",
                "            \"-z\",\n",
                "            \"y\",\n",
                "            str(dcm_dir.resolve()),\n",
                "        ]\n",
                "        subprocess.run(args, check=True)\n",
                "\n",
                "        nii_files = list(Path(tmpdir).glob(\"*Eq_*.nii.gz\"))\n",
                "        if len(nii_files) > 1:\n",
                "            raise ValueError(f\"Expected 1 Eq_*.nii.gz file, found {len(nii_files)}\")\n",
                "        elif len(nii_files) == 1:\n",
                "            shutil.move(nii_files[0], nii_path)\n",
                "            return\n",
                "        # no Eq images\n",
                "        nii_files = list(Path(tmpdir).glob(\"*.nii.gz\"))\n",
                "        if len(nii_files) > 1:\n",
                "            raise ValueError(f\"Expected 1 *.nii.gz file, found {len(nii_files)}\")\n",
                "        elif len(nii_files) == 1:\n",
                "            shutil.move(nii_files[0], nii_path)\n",
                "            return\n",
                "        raise ValueError(f\"Expected 1 *.nii.gz file, found 0\")"
            ]
        },
        {
            "cell_type": "code",
            "execution_count": 11,
            "metadata": {},
            "outputs": [
                {
                    "data": {
                        "application/vnd.jupyter.widget-view+json": {
                            "model_id": "96b6587ec3fe47c3b15e0fcf6f05ef40",
                            "version_major": 2,
                            "version_minor": 0
                        },
                        "text/plain": [
                            "  0%|          | 0/379 [00:00<?, ?it/s]"
                        ]
                    },
                    "metadata": {},
                    "output_type": "display_data"
                },
                {
                    "name": "stdout",
                    "output_type": "stream",
                    "text": [
                        "Chris Rorden's dcm2niiX version v1.0.20230411  GCC11.3.0 x86-64 (64-bit Linux)\n",
                        "Found 108 DICOM file(s)\n",
                        "Warning: PatientOrient (0018,5100) not specified (issue 642).\n",
                        "Convert 108 DICOM as /tmp/tmpzbx6d97b/1.2.840.113654.2.55.275373474254165031723732882021251186848_0,OPA,GE,LSPLUS,LUNG,330,2.5,120,80,0.1,1.5_19990102000000_1 (512x512x108x1)\n",
                        "Compress: \"/usr/bin/pigz\" -b 960 -n -f -6 \"/tmp/tmpzbx6d97b/1.2.840.113654.2.55.275373474254165031723732882021251186848_0,OPA,GE,LSPLUS,LUNG,330,2.5,120,80,0.1,1.5_19990102000000_1.nii\"\n",
                        "Conversion required 0.551846 seconds (0.161153 for core code).\n",
                        "Chris Rorden's dcm2niiX version v1.0.20230411  GCC11.3.0 x86-64 (64-bit Linux)\n",
                        "Found 108 DICOM file(s)\n",
                        "Warning: PatientOrient (0018,5100) not specified (issue 642).\n",
                        "Convert 108 DICOM as /tmp/tmpzfbllpfu/1.2.840.113654.2.55.68868452922487664632761862635623704901_0,OPA,GE,LSPLUS,LUNG,326,2.5,120,80,0.1,1.5_19990102000000_1 (512x512x108x1)\n",
                        "Compress: \"/usr/bin/pigz\" -b 960 -n -f -6 \"/tmp/tmpzfbllpfu/1.2.840.113654.2.55.68868452922487664632761862635623704901_0,OPA,GE,LSPLUS,LUNG,326,2.5,120,80,0.1,1.5_19990102000000_1.nii\"\n",
                        "Conversion required 0.362581 seconds (0.194117 for core code).\n",
                        "Chris Rorden's dcm2niiX version v1.0.20230411  GCC11.3.0 x86-64 (64-bit Linux)\n",
                        "Found 153 DICOM file(s)\n",
                        "Warning: PatientOrient (0018,5100) not specified (issue 642).\n",
                        "Warning: Instance Number (0020,0013) order is not spatial.\n",
                        "Warning: Interslice distance varies in this volume (incompatible with NIfTI format).\n",
                        "Warning: Missing images? Expected 153 images, but instance number (0020,0013) ranges from 160 to 1\n",
                        "Convert 153 DICOM as /tmp/tmpf4jy8htm/1.2.840.113654.2.55.275497532598408122620057076930402733572_1,OPA,TO,AQUL4,FC51,337.9,2,120,75,na,na_20000102000000_3 (512x512x153x1)\n",
                        "Compress: \"/usr/bin/pigz\" -b 960 -n -f -6 \"/tmp/tmpf4jy8htm/1.2.840.113654.2.55.275497532598408122620057076930402733572_1,OPA,TO,AQUL4,FC51,337.9,2,120,75,na,na_20000102000000_3.nii\"\n",
                        "Compress: \"/usr/bin/pigz\" -b 960 -n -f -6 \"/tmp/tmpf4jy8htm/1.2.840.113654.2.55.275497532598408122620057076930402733572_1,OPA,TO,AQUL4,FC51,337.9,2,120,75,na,na_20000102000000_3_Eq_1.nii\"\n",
                        "Conversion required 0.894223 seconds (0.515550 for core code).\n",
                        "Chris Rorden's dcm2niiX version v1.0.20230411  GCC11.3.0 x86-64 (64-bit Linux)\n",
                        "Found 155 DICOM file(s)\n",
                        "Warning: PatientOrient (0018,5100) not specified (issue 642).\n",
                        "Warning: Instance Number (0020,0013) order is not spatial.\n",
                        "Warning: Interslice distance varies in this volume (incompatible with NIfTI format).\n",
                        "Warning: Missing images? Expected 155 images, but instance number (0020,0013) ranges from 172 to 1\n",
                        "Convert 155 DICOM as /tmp/tmp8ng51dqo/1.2.840.113654.2.55.178986959794071604521863123821914636913_1,OPA,GE,LSQX,STANDARD,340,2.5,120,32,0,1.5_20000102000000_2 (512x512x155x1)\n",
                        "Chris Rorden's dcm2niiX version v1.0.20230411  GCC11.3.0 x86-64 (64-bit Linux)\n",
                        "Found 123 DICOM file(s)\n",
                        "Warning: PatientOrient (0018,5100) not specified (issue 642).\n",
                        "Convert 123 DICOM as /tmp/tmp_445x0ro/1.2.840.113654.2.55.281263280886180083169388211206671939800_0,OPA,GE,HSQX,BONE,310,2.5,120,56,0.1,1.5_19990102000000_3 (512x512x123x1)\n",
                        "Compress: \"/usr/bin/pigz\" -b 960 -n -f -6 \"/tmp/tmp_445x0ro/1.2.840.113654.2.55.281263280886180083169388211206671939800_0,OPA,GE,HSQX,BONE,310,2.5,120,56,0.1,1.5_19990102000000_3.nii\"\n",
                        "Conversion required 0.707033 seconds (0.233408 for core code).\n",
                        "Chris Rorden's dcm2niiX version v1.0.20230411  GCC11.3.0 x86-64 (64-bit Linux)\n",
                        "Found 151 DICOM file(s)\n",
                        "Warning: PatientOrient (0018,5100) not specified (issue 642).\n",
                        "Convert 151 DICOM as /tmp/tmp69swid_o/1.2.840.113654.2.55.74426036662797543056172285458101195472_0,OPA,PH,MX8000,C,400,3.2,120,60,0.1,1.2_19990102000000_1072899424 (512x512x151x1)\n",
                        "Compress: \"/usr/bin/pigz\" -b 960 -n -f -6 \"/tmp/tmp69swid_o/1.2.840.113654.2.55.74426036662797543056172285458101195472_0,OPA,PH,MX8000,C,400,3.2,120,60,0.1,1.2_19990102000000_1072899424.nii\"\n",
                        "Conversion required 0.735530 seconds (0.263777 for core code).\n",
                        "Chris Rorden's dcm2niiX version v1.0.20230411  GCC11.3.0 x86-64 (64-bit Linux)\n",
                        "Found 115 DICOM file(s)\n",
                        "Warning: PatientOrient (0018,5100) not specified (issue 642).\n",
                        "Convert 115 DICOM as /tmp/tmpo87b4mk6/1.2.840.113654.2.55.7854110270110144860568725881529682750_2,OPA,GE,LSPR16,STANDARD,290,2.5,120,40,0,1.4_20010102000000_3 (512x512x115x1)\n",
                        "Compress: \"/usr/bin/pigz\" -b 960 -n -f -6 \"/tmp/tmpo87b4mk6/1.2.840.113654.2.55.7854110270110144860568725881529682750_2,OPA,GE,LSPR16,STANDARD,290,2.5,120,40,0,1.4_20010102000000_3.nii\"\n",
                        "Conversion required 0.384244 seconds (0.180460 for core code).\n",
                        "Chris Rorden's dcm2niiX version v1.0.20230411  GCC11.3.0 x86-64 (64-bit Linux)\n",
                        "Found 162 DICOM file(s)\n",
                        "Warning: PatientOrient (0018,5100) not specified (issue 642).\n",
                        "Convert 162 DICOM as /tmp/tmp2tromtux/1.2.840.113654.2.55.172080991533005588391825391957774051032_0,OPA,SE,VZOOM,B50f,380,2,120,60,30,na_19990102000000_3 (512x512x162x1)\n",
                        "Compress: \"/usr/bin/pigz\" -b 960 -n -f -6 \"/tmp/tmp2tromtux/1.2.840.113654.2.55.172080991533005588391825391957774051032_0,OPA,SE,VZOOM,B50f,380,2,120,60,30,na_19990102000000_3.nii\"\n",
                        "Conversion required 0.766228 seconds (0.296253 for core code).\n",
                        "Chris Rorden's dcm2niiX version v1.0.20230411  GCC11.3.0 x86-64 (64-bit Linux)\n",
                        "Found 49 DICOM file(s)\n",
                        "Warning: PatientOrient (0018,5100) not specified (issue 642).\n",
                        "Warning: Instance Number (0020,0013) order is not spatial.\n",
                        "Warning: Interslice distance varies in this volume (incompatible with NIfTI format).\n",
                        "Warning: Missing images? Expected 49 images, but instance number (0020,0013) ranges from 133 to 1\n",
                        "Convert 49 DICOM as /tmp/tmpccdcuj3b/1.2.840.113654.2.55.111967421573186501033313047197294897266_1,OPA,GE,HSQX,STANDARD,320,2.5,120,56,0.1,1.5_20000102000000_2 (512x512x49x1)\n",
                        "Compress: \"/usr/bin/pigz\" -b 960 -n -f -6 \"/tmp/tmpccdcuj3b/1.2.840.113654.2.55.111967421573186501033313047197294897266_1,OPA,GE,HSQX,STANDARD,320,2.5,120,56,0.1,1.5_20000102000000_2.nii\"\n",
                        "Compress: \"/usr/bin/pigz\" -b 960 -n -f -6 \"/tmp/tmpccdcuj3b/1.2.840.113654.2.55.111967421573186501033313047197294897266_1,OPA,GE,HSQX,STANDARD,320,2.5,120,56,0.1,1.5_20000102000000_2_Eq_1.nii\"\n",
                        "Conversion required 0.786494 seconds (0.308989 for core code).\n",
                        "Chris Rorden's dcm2niiX version v1.0.20230411  GCC11.3.0 x86-64 (64-bit Linux)\n",
                        "Found 136 DICOM file(s)\n",
                        "Warning: PatientOrient (0018,5100) not specified (issue 642).\n",
                        "Convert 136 DICOM as /tmp/tmplqwvaw6o/1.2.840.113654.2.55.339044710876540909063066752749777258122_1,OPA,GE,LSPR16,BONE,320,2.5,120,40,0,1.4_20000102000000_2 (512x512x136x1)\n",
                        "Compress: \"/usr/bin/pigz\" -b 960 -n -f -6 \"/tmp/tmplqwvaw6o/1.2.840.113654.2.55.339044710876540909063066752749777258122_1,OPA,GE,LSPR16,BONE,320,2.5,120,40,0,1.4_20000102000000_2.nii\"\n",
                        "Conversion required 0.632434 seconds (0.243826 for core code).\n",
                        "Chris Rorden's dcm2niiX version v1.0.20230411  GCC11.3.0 x86-64 (64-bit Linux)\n",
                        "Found 171 DICOM file(s)\n",
                        "Warning: PatientOrient (0018,5100) not specified (issue 642).\n",
                        "Warning: Instance Number (0020,0013) order is not spatial.\n",
                        "Warning: Interslice distance varies in this volume (incompatible with NIfTI format).\n",
                        "Warning: Missing images? Expected 171 images, but instance number (0020,0013) ranges from 196 to 1\n",
                        "Chris Rorden's dcm2niiX version v1.0.20230411  GCC11.3.0 x86-64 (64-bit Linux)\n",
                        "Found 156 DICOM file(s)\n",
                        "Warning: PatientOrient (0018,5100) not specified (issue 642).\n",
                        "Convert 156 DICOM as /tmp/tmp_5d17ld7/1.2.840.113654.2.55.22084245517968704647300402362399724489_0,OPA,TO,AQUL4,FC51,309.4,2,120,40,na,na_19990102000000_4 (512x512x156x1)\n"
                    ]
                },
                {
                    "name": "stderr",
                    "output_type": "stream",
                    "text": [
                        "Error: Unable to open '/home/gmurugesan/projects/experimental_projects/AIMI/aimiv2/deliverable/github_repo/aimi-lung2-ct/data/dcm/nlst/111221/1.2.840.113654.2.55.336655363694899352482953694955554158418/1.2.840.113654.2.55.38380760938863740334622103795226994737/e08a1a2c-5438-48a5-9904-3968876b1838.dcm2399124308'\n"
                    ]
                },
                {
                    "name": "stdout",
                    "output_type": "stream",
                    "text": [
                        "Compress: \"/usr/bin/pigz\" -b 960 -n -f -6 \"/tmp/tmp_5d17ld7/1.2.840.113654.2.55.22084245517968704647300402362399724489_0,OPA,TO,AQUL4,FC51,309.4,2,120,40,na,na_19990102000000_4.nii\"\n",
                        "Conversion required 0.487649 seconds (0.243436 for core code).\n",
                        "Chris Rorden's dcm2niiX version v1.0.20230411  GCC11.3.0 x86-64 (64-bit Linux)\n",
                        "Found 131 DICOM file(s)\n",
                        "Warning: PatientOrient (0018,5100) not specified (issue 642).\n",
                        "Convert 131 DICOM as /tmp/tmp686vyyim/1.2.840.113654.2.55.33725636231942379140846526086694033319_0,OPA,GE,LSQX,STANDARD,350,2.5,120,60,0.1,1.5_19990102000000_2 (512x512x131x1)\n",
                        "Compress: \"/usr/bin/pigz\" -b 960 -n -f -6 \"/tmp/tmp686vyyim/1.2.840.113654.2.55.33725636231942379140846526086694033319_0,OPA,GE,LSQX,STANDARD,350,2.5,120,60,0.1,1.5_19990102000000_2.nii\"\n",
                        "Conversion required 0.451206 seconds (0.239750 for core code).\n",
                        "Chris Rorden's dcm2niiX version v1.0.20230411  GCC11.3.0 x86-64 (64-bit Linux)\n",
                        "Found 170 DICOM file(s)\n",
                        "Warning: PatientOrient (0018,5100) not specified (issue 642).\n",
                        "Convert 170 DICOM as /tmp/tmpuv1pegv7/1.2.840.113654.2.55.323067664901890164304171820617478007365_2,OPA,PH,MX8000,C,351,3.2,120,45,36,1.2_20010102000000_7057 (512x512x170x1)\n",
                        "Compress: \"/usr/bin/pigz\" -b 960 -n -f -6 \"/tmp/tmpuv1pegv7/1.2.840.113654.2.55.323067664901890164304171820617478007365_2,OPA,PH,MX8000,C,351,3.2,120,45,36,1.2_20010102000000_7057.nii\"\n",
                        "Conversion required 0.598689 seconds (0.302887 for core code).\n",
                        "Chris Rorden's dcm2niiX version v1.0.20230411  GCC11.3.0 x86-64 (64-bit Linux)\n",
                        "Found 37 DICOM file(s)\n",
                        "Warning: PatientOrient (0018,5100) not specified (issue 642).\n",
                        "Warning: Instance Number (0020,0013) order is not spatial.\n",
                        "Warning: Interslice distance varies in this volume (incompatible with NIfTI format).\n",
                        "Warning: Missing images? Expected 37 images, but instance number (0020,0013) ranges from 125 to 2\n",
                        "FileSize < (ImageSize+HeaderSize): 342639 < (524288+2318) \n",
                        "Warning: File not large enough to store image data: /home/gmurugesan/projects/experimental_projects/AIMI/aimiv2/deliverable/github_repo/aimi-lung2-ct/data/dcm/nlst/117950/1.2.840.113654.2.55.295171422324705778206399898019141807066/1.2.840.113654.2.55.51665518396305101913830236524955536619/43ed1d2f-6b0b-4af4-bd65-d467d2d7c3c9.dcm809424177\n",
                        "Chris Rorden's dcm2niiX version v1.0.20230411  GCC11.3.0 x86-64 (64-bit Linux)\n",
                        "Found 54 DICOM file(s)\n",
                        "Warning: PatientOrient (0018,5100) not specified (issue 642).\n",
                        "Warning: Instance Number (0020,0013) order is not spatial.\n",
                        "Warning: Interslice distance varies in this volume (incompatible with NIfTI format).\n",
                        "Warning: Missing images? Expected 54 images, but instance number (0020,0013) ranges from 112 to 1\n",
                        "FileSize < (ImageSize+HeaderSize): 506479 < (524288+2318) \n",
                        "Warning: File not large enough to store image data: /home/gmurugesan/projects/experimental_projects/AIMI/aimiv2/deliverable/github_repo/aimi-lung2-ct/data/dcm/nlst/114798/1.2.840.113654.2.55.131908145350987999462564978385664313685/1.2.840.113654.2.55.164118560299180649363795145725329247349/8809265a-ddb0-4b07-868f-fb5732f6cb36.dcm3361463799\n",
                        "Chris Rorden's dcm2niiX version v1.0.20230411  GCC11.3.0 x86-64 (64-bit Linux)\n",
                        "Found 54 DICOM file(s)\n",
                        "Warning: PatientOrient (0018,5100) not specified (issue 642).\n",
                        "Warning: Instance Number (0020,0013) order is not spatial.\n",
                        "Warning: Interslice distance varies in this volume (incompatible with NIfTI format).\n",
                        "Warning: Missing images? Expected 54 images, but instance number (0020,0013) ranges from 125 to 1\n",
                        "FileSize < (ImageSize+HeaderSize): 309871 < (524288+2310) \n",
                        "Warning: File not large enough to store image data: /home/gmurugesan/projects/experimental_projects/AIMI/aimiv2/deliverable/github_repo/aimi-lung2-ct/data/dcm/nlst/115020/1.2.840.113654.2.55.137098754535454911783723421677003819526/1.2.840.113654.2.55.309904176655356962629410418055013019078/638a6653-e4db-4385-9e9b-c620d0d1353f.dcm2233197831\n",
                        "Chris Rorden's dcm2niiX version v1.0.20230411  GCC11.3.0 x86-64 (64-bit Linux)\n",
                        "Found 111 DICOM file(s)\n",
                        "Warning: PatientOrient (0018,5100) not specified (issue 642).\n",
                        "Convert 111 DICOM as /tmp/tmpc67cajp7/1.2.840.113654.2.55.110902905419520560212820072734366096106_0,OPA,GE,LSQX,STANDARD,316,2.5,140,48,0,1.5_19990102000000_2 (512x512x111x1)\n",
                        "Compress: \"/usr/bin/pigz\" -b 960 -n -f -6 \"/tmp/tmpc67cajp7/1.2.840.113654.2.55.110902905419520560212820072734366096106_0,OPA,GE,LSQX,STANDARD,316,2.5,140,48,0,1.5_19990102000000_2.nii\"\n",
                        "Conversion required 0.344949 seconds (0.167869 for core code).\n",
                        "Chris Rorden's dcm2niiX version v1.0.20230411  GCC11.3.0 x86-64 (64-bit Linux)\n",
                        "Found 30 DICOM file(s)\n",
                        "Warning: PatientOrient (0018,5100) not specified (issue 642).\n",
                        "Warning: Instance Number (0020,0013) order is not spatial.\n",
                        "Warning: Interslice distance varies in this volume (incompatible with NIfTI format).\n",
                        "Warning: Missing images? Expected 29 images, but instance number (0020,0013) ranges from 8 to 145\n",
                        "Convert 29 DICOM as /tmp/tmpz_4bn8je/1.2.840.113654.2.55.96030936677299998289459301371355143208_2,OPA,GE,LSQX,STANDARD,320,2.5,140,40,0,1.5_20010102000000_2 (512x512x29x1)\n",
                        "Compress: \"/usr/bin/pigz\" -b 960 -n -f -6 \"/tmp/tmpz_4bn8je/1.2.840.113654.2.55.96030936677299998289459301371355143208_2,OPA,GE,LSQX,STANDARD,320,2.5,140,40,0,1.5_20010102000000_2.nii\"\n",
                        "Compress: \"/usr/bin/pigz\" -b 960 -n -f -6 \"/tmp/tmpz_4bn8je/1.2.840.113654.2.55.96030936677299998289459301371355143208_2,OPA,GE,LSQX,STANDARD,320,2.5,140,40,0,1.5_20010102000000_2_Eq_1.nii\"\n",
                        "Conversion required 0.428997 seconds (0.206171 for core code).\n",
                        "Chris Rorden's dcm2niiX version v1.0.20230411  GCC11.3.0 x86-64 (64-bit Linux)\n",
                        "Found 57 DICOM file(s)\n",
                        "Warning: PatientOrient (0018,5100) not specified (issue 642).\n",
                        "Warning: Instance Number (0020,0013) order is not spatial.\n",
                        "Warning: Interslice distance varies in this volume (incompatible with NIfTI format).\n",
                        "Warning: Missing images? Expected 56 images, but instance number (0020,0013) ranges from 107 to 5\n",
                        "Convert 56 DICOM as /tmp/tmpr1rq39du/1.2.840.113654.2.55.234870527508599761640999671632707483702_2,OPA,GE,HSQX,STANDARD,300,2.5,120,56,0.1,1.5_20010102000000_2 (512x512x56x1)\n",
                        "Compress: \"/usr/bin/pigz\" -b 960 -n -f -6 \"/tmp/tmpr1rq39du/1.2.840.113654.2.55.234870527508599761640999671632707483702_2,OPA,GE,HSQX,STANDARD,300,2.5,120,56,0.1,1.5_20010102000000_2.nii\"\n",
                        "Compress: \"/usr/bin/pigz\" -b 960 -n -f -6 \"/tmp/tmpr1rq39du/1.2.840.113654.2.55.234870527508599761640999671632707483702_2,OPA,GE,HSQX,STANDARD,300,2.5,120,56,0.1,1.5_20010102000000_2_Eq_1.nii\"\n",
                        "Conversion required 0.594682 seconds (0.322228 for core code).\n",
                        "Chris Rorden's dcm2niiX version v1.0.20230411  GCC11.3.0 x86-64 (64-bit Linux)\n",
                        "Found 53 DICOM file(s)\n",
                        "Warning: PatientOrient (0018,5100) not specified (issue 642).\n",
                        "Warning: Instance Number (0020,0013) order is not spatial.\n",
                        "Warning: Interslice distance varies in this volume (incompatible with NIfTI format).\n",
                        "Warning: Missing images? Expected 53 images, but instance number (0020,0013) ranges from 159 to 1\n",
                        "FileSize < (ImageSize+HeaderSize): 506479 < (524288+2180) \n",
                        "Warning: File not large enough to store image data: /home/gmurugesan/projects/experimental_projects/AIMI/aimiv2/deliverable/github_repo/aimi-lung2-ct/data/dcm/nlst/116279/1.2.840.113654.2.55.272531878771761201709257343716926239518/1.2.840.113654.2.55.276042860877174070499805591960208304920/56a91545-dbdb-429f-8c9f-775c5473d95f.dcm3110979429\n",
                        "Chris Rorden's dcm2niiX version v1.0.20230411  GCC11.3.0 x86-64 (64-bit Linux)\n",
                        "Found 69 DICOM file(s)\n",
                        "Warning: PatientOrient (0018,5100) not specified (issue 642).\n",
                        "Warning: Instance Number (0020,0013) order is not spatial.\n",
                        "Warning: Interslice distance varies in this volume (incompatible with NIfTI format).\n",
                        "Warning: Missing images? Expected 69 images, but instance number (0020,0013) ranges from 177 to 1\n",
                        "Convert 69 DICOM as /tmp/tmp2csl8csr/1.2.840.113654.2.55.174124356248996430508683867152648202173_0,OPA,TO,AQUL4,FC51,304.7,2,120,40,na,na_19990102000000_4 (512x512x69x1)\n",
                        "Compress: \"/usr/bin/pigz\" -b 960 -n -f -6 \"/tmp/tmp2csl8csr/1.2.840.113654.2.55.174124356248996430508683867152648202173_0,OPA,TO,AQUL4,FC51,304.7,2,120,40,na,na_19990102000000_4.nii\"\n",
                        "Compress: \"/usr/bin/pigz\" -b 960 -n -f -6 \"/tmp/tmp2csl8csr/1.2.840.113654.2.55.174124356248996430508683867152648202173_0,OPA,TO,AQUL4,FC51,304.7,2,120,40,na,na_19990102000000_4_Eq_1.nii\"\n",
                        "Conversion required 0.819543 seconds (0.443440 for core code).\n",
                        "Chris Rorden's dcm2niiX version v1.0.20230411  GCC11.3.0 x86-64 (64-bit Linux)\n",
                        "Found 135 DICOM file(s)\n",
                        "Warning: PatientOrient (0018,5100) not specified (issue 642).\n",
                        "Convert 135 DICOM as /tmp/tmpmklqrotv/1.2.840.113654.2.55.321015447560879747152307811899265404393_0,OPA,GE,LSQX,STANDARD,340,2.5,120,50,0.1,1.5_19990102000000_2 (512x512x135x1)\n",
                        "Compress: \"/usr/bin/pigz\" -b 960 -n -f -6 \"/tmp/tmpmklqrotv/1.2.840.113654.2.55.321015447560879747152307811899265404393_0,OPA,GE,LSQX,STANDARD,340,2.5,120,50,0.1,1.5_19990102000000_2.nii\"\n",
                        "Conversion required 0.419112 seconds (0.200602 for core code).\n",
                        "Chris Rorden's dcm2niiX version v1.0.20230411  GCC11.3.0 x86-64 (64-bit Linux)\n",
                        "Found 47 DICOM file(s)\n",
                        "Warning: PatientOrient (0018,5100) not specified (issue 642).\n",
                        "Warning: Instance Number (0020,0013) order is not spatial.\n",
                        "Warning: Interslice distance varies in this volume (incompatible with NIfTI format).\n",
                        "Warning: Missing images? Expected 47 images, but instance number (0020,0013) ranges from 152 to 1\n",
                        "FileSize < (ImageSize+HeaderSize): 342640 < (524288+2356) \n",
                        "Warning: File not large enough to store image data: /home/gmurugesan/projects/experimental_projects/AIMI/aimiv2/deliverable/github_repo/aimi-lung2-ct/data/dcm/nlst/117632/1.2.840.113654.2.55.211777853836486514502105441275462647259/1.2.840.113654.2.55.5285659787706654716428572022583516845/4af1cdfa-3b1c-4826-b3ca-6a282cd37a56.dcm1530106190\n",
                        "Chris Rorden's dcm2niiX version v1.0.20230411  GCC11.3.0 x86-64 (64-bit Linux)\n",
                        "Found 163 DICOM file(s)\n",
                        "Warning: PatientOrient (0018,5100) not specified (issue 642).\n",
                        "Convert 163 DICOM as /tmp/tmp450rwyor/1.2.840.113654.2.55.323804676332963457174235140303454945005_0,OPA,SE,VZOOM,B50f,320,2,120,80,40,na_19990102000000_2 (512x512x163x1)\n",
                        "Compress: \"/usr/bin/pigz\" -b 960 -n -f -6 \"/tmp/tmp450rwyor/1.2.840.113654.2.55.323804676332963457174235140303454945005_0,OPA,SE,VZOOM,B50f,320,2,120,80,40,na_19990102000000_2.nii\"\n",
                        "Conversion required 0.532803 seconds (0.244096 for core code).\n",
                        "Chris Rorden's dcm2niiX version v1.0.20230411  GCC11.3.0 x86-64 (64-bit Linux)\n",
                        "Found 39 DICOM file(s)\n",
                        "Warning: PatientOrient (0018,5100) not specified (issue 642).\n",
                        "Warning: Instance Number (0020,0013) order is not spatial.\n",
                        "Warning: Interslice distance varies in this volume (incompatible with NIfTI format).\n",
                        "Warning: Missing images? Expected 39 images, but instance number (0020,0013) ranges from 173 to 17\n",
                        "FileSize < (ImageSize+HeaderSize): 342639 < (524288+2172) \n",
                        "Warning: File not large enough to store image data: /home/gmurugesan/projects/experimental_projects/AIMI/aimiv2/deliverable/github_repo/aimi-lung2-ct/data/dcm/nlst/118681/1.2.840.113654.2.55.120842935380175136118642199442629909544/1.2.840.113654.2.55.8669249495923405544368234260335066203/450b7e1e-12cc-4957-b637-77597a5aa5cd.dcm3037310942\n",
                        "Chris Rorden's dcm2niiX version v1.0.20230411  GCC11.3.0 x86-64 (64-bit Linux)\n",
                        "Found 161 DICOM file(s)\n",
                        "Warning: PatientOrient (0018,5100) not specified (issue 642).\n",
                        "Convert 161 DICOM as /tmp/tmpm9sbejrr/1.2.840.113654.2.55.296713903762675284326699648917015120133_0,OPA,SE,SEN16,B50f,324,2,120,45,30,na_19990102000000_5 (512x512x161x1)\n",
                        "Compress: \"/usr/bin/pigz\" -b 960 -n -f -6 \"/tmp/tmpm9sbejrr/1.2.840.113654.2.55.296713903762675284326699648917015120133_0,OPA,SE,SEN16,B50f,324,2,120,45,30,na_19990102000000_5.nii\"\n",
                        "Conversion required 0.802060 seconds (0.267174 for core code).\n",
                        "Chris Rorden's dcm2niiX version v1.0.20230411  GCC11.3.0 x86-64 (64-bit Linux)\n",
                        "Found 125 DICOM file(s)\n",
                        "Warning: PatientOrient (0018,5100) not specified (issue 642).\n",
                        "Convert 125 DICOM as /tmp/tmpkwqvyiuw/1.2.840.113654.2.55.105502615966593323000373890134407025846_0,OPA,GE,LSQX,STANDARD,360,2.5,120,56,0.1,1.5_19990102000000_2 (512x512x125x1)\n",
                        "Compress: \"/usr/bin/pigz\" -b 960 -n -f -6 \"/tmp/tmpkwqvyiuw/1.2.840.113654.2.55.105502615966593323000373890134407025846_0,OPA,GE,LSQX,STANDARD,360,2.5,120,56,0.1,1.5_19990102000000_2.nii\"\n",
                        "Conversion required 0.397586 seconds (0.188002 for core code).\n",
                        "Chris Rorden's dcm2niiX version v1.0.20230411  GCC11.3.0 x86-64 (64-bit Linux)\n",
                        "Found 64 DICOM file(s)\n",
                        "Warning: PatientOrient (0018,5100) not specified (issue 642).\n",
                        "Warning: Instance Number (0020,0013) order is not spatial.\n",
                        "Warning: Interslice distance varies in this volume (incompatible with NIfTI format).\n",
                        "Warning: Missing images? Expected 64 images, but instance number (0020,0013) ranges from 1 to 129\n",
                        "Convert 64 DICOM as /tmp/tmpymxiv4lt/1.2.840.113654.2.55.257416692801824567109770633434577562863_2,OPA,GE,LSPLUS,STANDARD,330,2.5,140,0,0,na_20010102000000_2 (512x512x64x1)\n",
                        "Compress: \"/usr/bin/pigz\" -b 960 -n -f -6 \"/tmp/tmpymxiv4lt/1.2.840.113654.2.55.257416692801824567109770633434577562863_2,OPA,GE,LSPLUS,STANDARD,330,2.5,140,0,0,na_20010102000000_2.nii\"\n",
                        "Compress: \"/usr/bin/pigz\" -b 960 -n -f -6 \"/tmp/tmpymxiv4lt/1.2.840.113654.2.55.257416692801824567109770633434577562863_2,OPA,GE,LSPLUS,STANDARD,330,2.5,140,0,0,na_20010102000000_2_Eq_1.nii\"\n",
                        "Conversion required 0.853763 seconds (0.417268 for core code).\n",
                        "Chris Rorden's dcm2niiX version v1.0.20230411  GCC11.3.0 x86-64 (64-bit Linux)\n",
                        "Found 55 DICOM file(s)\n",
                        "Warning: PatientOrient (0018,5100) not specified (issue 642).\n",
                        "Warning: Instance Number (0020,0013) order is not spatial.\n",
                        "Warning: Interslice distance varies in this volume (incompatible with NIfTI format).\n",
                        "Warning: Missing images? Expected 55 images, but instance number (0020,0013) ranges from 151 to 2\n",
                        "Convert 55 DICOM as /tmp/tmp7fevcjjm/1.2.840.113654.2.55.297377589687782727408829538326891365099_1,OPA,SE,VZOOM,B50f,280,2,120,75,40,na_20000102000000_3 (512x512x55x1)\n",
                        "Compress: \"/usr/bin/pigz\" -b 960 -n -f -6 \"/tmp/tmp7fevcjjm/1.2.840.113654.2.55.297377589687782727408829538326891365099_1,OPA,SE,VZOOM,B50f,280,2,120,75,40,na_20000102000000_3.nii\"\n",
                        "Compress: \"/usr/bin/pigz\" -b 960 -n -f -6 \"/tmp/tmp7fevcjjm/1.2.840.113654.2.55.297377589687782727408829538326891365099_1,OPA,SE,VZOOM,B50f,280,2,120,75,40,na_20000102000000_3_Eq_1.nii\"\n",
                        "Conversion required 0.942101 seconds (0.406803 for core code).\n",
                        "Chris Rorden's dcm2niiX version v1.0.20230411  GCC11.3.0 x86-64 (64-bit Linux)\n",
                        "Found 192 DICOM file(s)\n",
                        "Warning: PatientOrient (0018,5100) not specified (issue 642).\n",
                        "Convert 192 DICOM as /tmp/tmpntfxihs1/1.2.840.113654.2.55.47028778504353463905881338301946379763_1,OPA,SE,VZOOM,B30f,350,2,140,80,40,na_20000102000000_2 (512x512x192x1)\n"
                    ]
                }
            ],
            "source": [
                "bad_files = []\n",
                "dcm_series_dirs = {x.parent for x in dcm_dir.rglob(\"*.dcm\")}\n",
                "for dcm_series_dir in tqdm(dcm_series_dirs):\n",
                "    nii_file = nii_dir / f\"{dcm_series_dir.relative_to(dcm_dir)}.nii.gz\"\n",
                "    if not nii_file.exists():\n",
                "        nii_file.parent.mkdir(parents=True, exist_ok=True)\n",
                "        try:\n",
                "            dcm_to_niix(dcm_series_dir, nii_file)\n",
                "        except:\n",
                "            bad_files.append(dcm_series_dir)"
            ]
        },
        {
            "cell_type": "code",
            "execution_count": null,
            "metadata": {},
            "outputs": [
                {
                    "data": {
                        "text/plain": [
                            "0"
                        ]
                    },
                    "execution_count": 28,
                    "metadata": {},
                    "output_type": "execute_result"
                }
            ],
            "source": [
                "len(bad_files)"
            ]
        },
        {
            "cell_type": "code",
            "execution_count": null,
            "metadata": {},
            "outputs": [
                {
                    "data": {
                        "text/plain": [
                            "[]"
                        ]
                    },
                    "execution_count": 29,
                    "metadata": {},
                    "output_type": "execute_result"
                }
            ],
            "source": [
                "bad_files"
            ]
        },
        {
            "cell_type": "code",
            "execution_count": null,
            "metadata": {},
            "outputs": [],
            "source": []
        }
    ],
    "metadata": {
        "kernelspec": {
            "display_name": "aimi2-zZY-yj44-py3.10",
            "language": "python",
            "name": "python3"
        },
        "language_info": {
            "codemirror_mode": {
                "name": "ipython",
                "version": 3
            },
            "file_extension": ".py",
            "mimetype": "text/x-python",
            "name": "python",
            "nbconvert_exporter": "python",
            "pygments_lexer": "ipython3",
            "version": "3.10.12"
        },
        "orig_nbformat": 4
    },
    "nbformat": 4,
    "nbformat_minor": 2
}
